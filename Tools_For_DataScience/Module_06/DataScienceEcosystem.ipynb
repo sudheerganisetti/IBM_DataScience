{
 "cells": [
  {
   "cell_type": "markdown",
   "metadata": {},
   "source": [
    "<center>\n",
    "    <img src=\"https://cf-courses-data.s3.us.cloud-object-storage.appdomain.cloud/IBMDeveloperSkillsNetwork-DS0105EN-SkillsNetwork/labs/Module2/images/SN_web_lightmode.png\" width=\"300\" alt=\"cognitiveclass.ai logo\">\n",
    "</center>\n"
   ]
  },
  {
   "cell_type": "markdown",
   "metadata": {},
   "source": [
    "#### Add your code below following the instructions given in the course\n"
   ]
  },
  {
   "cell_type": "markdown",
   "metadata": {},
   "source": [
    "<div style='background-color: rgba(213,180,162,255); padding: 10px; border-radius: 5px;'>\n",
    "    \n",
    "**Exercise - 2: Create markdown cell with title of the notebook**\\\n",
    "Create a markdown cell with the title *Data Science Tools and Ecosystem* using H1 style heading.\n",
    "</div>"
   ]
  },
  {
   "cell_type": "markdown",
   "metadata": {},
   "source": [
    "# Data Science Tools and Ecosystem"
   ]
  },
  {
   "cell_type": "markdown",
   "metadata": {},
   "source": [
    "# Data Science Tools and Ecosystem"
   ]
  },
  {
   "cell_type": "markdown",
   "metadata": {},
   "source": [
    "<div style='background-color: rgba(213,180,162,255); padding: 10px; border-radius: 5px;'>\n",
    "    \n",
    "**Exercise - 3: Create a markdown cell for an introduction**\\\n",
    "Write an introductory sentence about the notebook:\\\n",
    "*In this notebook, Data Science Tools and Ecosystem are summarized.*\n",
    "</div>\n"
   ]
  },
  {
   "cell_type": "markdown",
   "metadata": {},
   "source": [
    "In this notebook, Data Science Tools and Ecosystem are summarized."
   ]
  },
  {
   "cell_type": "markdown",
   "metadata": {},
   "source": [
    "In this notebook, Data Science Tools and Ecosystem are summarized."
   ]
  },
  {
   "cell_type": "markdown",
   "metadata": {},
   "source": [
    "<div style='background-color: rgba(213,180,162,255); padding: 10px; border-radius: 5px;'>\n",
    "    \n",
    "**Exercise - 4: Create a markdown cell to list data science languages**\\\n",
    "    Start the cell with an overview line such as:\\\n",
    "*Some of the popular languages that Data Scientists use are:*\\\n",
    "Then create an ordered list (i.e. numbered) listing 3 (or more) commonly used languages for data science.\n",
    "</div>"
   ]
  },
  {
   "cell_type": "markdown",
   "metadata": {},
   "source": [
    "Some of the popular languages that Data Scientists use are:\n",
    "1. Python\n",
    "2. R\n",
    "3. Julia\n",
    "4. SQL"
   ]
  },
  {
   "cell_type": "markdown",
   "metadata": {},
   "source": [
    "Some of the popular languages that Data Scientists use are:\n",
    "1. Python\n",
    "2. R\n",
    "3. Julia\n",
    "4. SQL"
   ]
  },
  {
   "cell_type": "markdown",
   "metadata": {},
   "source": [
    "<div style='background-color: rgba(213,180,162,255); padding: 10px; border-radius: 5px;'>\n",
    "    \n",
    "**Exercise - 5: Create a markdown cell to list data science libraries**\\\n",
    "Add an overview line to the cell like:\\\n",
    "*Some of the commonly used libraries used by Data Scientists include:*\\\n",
    "Below this line add an ordered list listing 3 (or more) commonly used libraries in data science.\\\n",
    "</div>"
   ]
  },
  {
   "cell_type": "markdown",
   "metadata": {},
   "source": [
    "Some of the commonly used libraries used by Data Scientists include:\n",
    "1. NumPy\n",
    "2. SciPy\n",
    "3. Pandas\n",
    "4. Matplotlib\n",
    "5. Seaborn\n",
    "6. ScikitLearn\n",
    "7. Keras\n",
    "8. Pytorch\n",
    "9. TensorFlow"
   ]
  },
  {
   "cell_type": "markdown",
   "metadata": {},
   "source": [
    "Some of the commonly used libraries used by Data Scientists include:\n",
    "1. NumPy\n",
    "2. SciPy\n",
    "3. Pandas\n",
    "4. Matplotlib\n",
    "5. Seaborn\n",
    "6. ScikitLearn\n",
    "7. Keras\n",
    "8. Pytorch\n",
    "9. TensorFlow"
   ]
  },
  {
   "cell_type": "markdown",
   "metadata": {},
   "source": [
    "<div style='background-color: rgba(213,180,162,255); padding: 10px; border-radius: 5px;'>\n",
    "    \n",
    "**Exercise - 6: Create a markdown cell with a table of Data Science tools**\\\n",
    "\n",
    "Create a single column table in this cell with the first row containing the header Data Science Tools.\\\n",
    "The subsequent three rows in the table should indicate three development environment open source tools used in data science.\n",
    "    \n",
    "</div>"
   ]
  },
  {
   "cell_type": "markdown",
   "metadata": {},
   "source": [
    "| **Data Science Tools** | \n",
    "| ------------------ |\n",
    "| Jupyter Notebook   |\n",
    "| PyCharm            |\n",
    "| VSCode             |"
   ]
  },
  {
   "cell_type": "markdown",
   "metadata": {},
   "source": [
    "| **Data Science Tools** | \n",
    "| ------------------ |\n",
    "| Jupyter Notebook   |\n",
    "| PyCharm            |\n",
    "| VSCode             |"
   ]
  },
  {
   "cell_type": "markdown",
   "metadata": {},
   "source": [
    "<div style='background-color: rgba(213,180,162,255); padding: 10px; border-radius: 5px;'>\n",
    "    \n",
    "**Exercise - 7: Create a markdown cell introducing arithmetic expression examples**\\\n",
    "Add a line in this cell with H3 style heading with text like:\\\n",
    "Below are a few examples of evaluating arithmetic expressions in Python\n",
    "\n",
    "</div>"
   ]
  },
  {
   "cell_type": "code",
   "execution_count": null,
   "metadata": {},
   "outputs": [],
   "source": [
    "### Below are a few examples of evaluating arithmetic expressions in Python"
   ]
  },
  {
   "cell_type": "markdown",
   "metadata": {},
   "source": [
    "### Below are a few examples of evaluating arithmetic expressions in Python"
   ]
  },
  {
   "cell_type": "markdown",
   "metadata": {},
   "source": [
    "<div style='background-color: rgba(213,180,162,255); padding: 10px; border-radius: 5px;'>\n",
    "    \n",
    "**Exercise - 8: Create a code cell to multiply and add numbers**\\\n",
    "In this code cell evaluate the expression (3*4)+5.\\\n",
    "Insert a comment line before the expression to explain the operation \\\n",
    "e.g.  This a simple arithmetic expression to mutiply then add integers.\\\n",
    "Then execute the cell to ensure the expression returns the expected output of 17.\n",
    "\n",
    "</div>"
   ]
  },
  {
   "cell_type": "code",
   "execution_count": 1,
   "metadata": {},
   "outputs": [
    {
     "name": "stdout",
     "output_type": "stream",
     "text": [
      "17\n"
     ]
    }
   ],
   "source": [
    "# This a simple arithmetic expression to mutiply 3 with 4 then add 5 to the result.\n",
    "x = (3*4)+5\n",
    "print(x)"
   ]
  },
  {
   "cell_type": "markdown",
   "metadata": {},
   "source": [
    "<div style='background-color: rgba(213,180,162,255); padding: 10px; border-radius: 5px;'>\n",
    "    \n",
    "**Exercise - 9: Create a code cell to convert minutes to hours**\\\n",
    "\n",
    "In this code cell write an expression that converts 200 minutes into hours.\\\n",
    "Insert a comment line before the expression to explain the operation e.g.  \\\n",
    "This will convert 200 minutes to hours by diving by 60.\\\n",
    "Run the cell to evaluate the expression.\n",
    "    \n",
    "</div>"
   ]
  },
  {
   "cell_type": "code",
   "execution_count": 2,
   "metadata": {},
   "outputs": [
    {
     "data": {
      "text/plain": [
       "3.3333333333333335"
      ]
     },
     "execution_count": 2,
     "metadata": {},
     "output_type": "execute_result"
    }
   ],
   "source": [
    "# This will convert 200 minutes to hours by diving by 60.\n",
    "200/60"
   ]
  },
  {
   "cell_type": "markdown",
   "metadata": {},
   "source": [
    "<div style='background-color: rgba(213,180,162,255); padding: 10px; border-radius: 5px;'>\n",
    "    \n",
    "**Exercise - 10: Insert a markdown cell to list Objectives**\\\n",
    "\n",
    "Below the introduction cell created in Exercise 3, insert a new markdown cell \\\n",
    "to list the objectives that this notebook covered (i.e. some of the key takeaways from the course). \\\n",
    "In this new cell start with an introductory line titled: Objectives: in bold font. \\\n",
    "Then using an unordered list (bullets) indicate 3 to 5 items covered in this notebook, such as List popular languages for Data Science.\n",
    "    \n",
    "</div>"
   ]
  },
  {
   "cell_type": "markdown",
   "metadata": {},
   "source": [
    "In this notebook, Data Science Tools and Ecosystem are summarized."
   ]
  },
  {
   "cell_type": "markdown",
   "metadata": {},
   "source": [
    "**Objectives**:\n",
    "- List popular languages for Data Science\n",
    "- List popular libraries for Data Science\n",
    "- List popular open source development environment tools"
   ]
  },
  {
   "cell_type": "markdown",
   "metadata": {},
   "source": [
    "**Objectives**:\n",
    "- List popular languages for Data Science\n",
    "- List popular libraries for Data Science\n",
    "- List popular open source development environment tools"
   ]
  },
  {
   "cell_type": "markdown",
   "metadata": {},
   "source": [
    "<div style='background-color: rgba(213,180,162,255); padding: 10px; border-radius: 5px;'>\n",
    "    \n",
    "**Exercise - 11: Create a markdown cell to indicate the Author's name**\\\n",
    "\n",
    "In this markdown cell markdown cell include the following text Author in H2 style heading. Include your name as regular text below the word Author.\n",
    "    \n",
    "</div>"
   ]
  },
  {
   "cell_type": "markdown",
   "metadata": {},
   "source": [
    "## Author ##\n",
    "Sudheer Ganisetti"
   ]
  },
  {
   "cell_type": "markdown",
   "metadata": {},
   "source": [
    "## Author ##\n",
    "Sudheer Ganisetti"
   ]
  },
  {
   "cell_type": "code",
   "execution_count": null,
   "metadata": {},
   "outputs": [],
   "source": []
  }
 ],
 "metadata": {
  "kernelspec": {
   "display_name": "Python 3 (ipykernel)",
   "language": "python",
   "name": "python3"
  },
  "language_info": {
   "codemirror_mode": {
    "name": "ipython",
    "version": 3
   },
   "file_extension": ".py",
   "mimetype": "text/x-python",
   "name": "python",
   "nbconvert_exporter": "python",
   "pygments_lexer": "ipython3",
   "version": "3.9.18"
  },
  "panel-cell-order": [
   "d83d078e",
   "5b524380",
   "406148e0",
   "37f47118",
   "398a2735",
   "38b32c3a",
   "44a06400",
   "5e17ed37",
   "c41117fa",
   "607c1107",
   "8241dadd",
   "90464280"
  ]
 },
 "nbformat": 4,
 "nbformat_minor": 4
}
